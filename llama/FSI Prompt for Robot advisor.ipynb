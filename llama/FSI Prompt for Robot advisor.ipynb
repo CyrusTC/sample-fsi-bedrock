{
 "cells": [
  {
   "cell_type": "markdown",
   "id": "0bc14527-85f1-4d9c-af3c-2068c2e3f3cb",
   "metadata": {
    "tags": []
   },
   "source": [
    "# This is to demo GenAI prompt in FSI"
   ]
  },
  {
   "cell_type": "markdown",
   "id": "d528bf6a-fa13-4bfb-ba30-fd92e5806274",
   "metadata": {
    "tags": []
   },
   "source": [
    "## Financial Robot Advisor"
   ]
  },
  {
   "cell_type": "markdown",
   "id": "8157fb79-08d7-4b7c-a4c4-f11a9fcaf452",
   "metadata": {
    "tags": []
   },
   "source": [
    "When a finance event happens (such as financial report release, federal reserve rate adjustment), wealth management relationship manager (RM) needs to give financial advice to their clients, including high net wealth clients, how these events would affect their open portfolio and what action they should take.\n",
    "\n",
    "Take JMPC RM for example. The RM's client has following portfolio:\n",
    "\n",
    "| Equity | Amount | Average Price | Market Value |\n",
    "| --- | --- | --- | --- |\n",
    "| AAPL.US | 10000 | US$200.00 | US$2,000,000 |\n",
    "| TSLA.US | 5000 | US$200.00 | US$1,000,000 |\n",
    "| YZ.US | 12000 | US$50.00 | US$600,000 |\n",
    "| 0388.HK | 10000 | HK$250.00 | HK$2,500,000 |\n",
    "| 0941.HK | 10000 | HK$30.00 | HK$300,000 |\n",
    "\n",
    "\n",
    "\n",
    "Following is the JPMC's market view on Fed rate (source: https://am.jpmorgan.com/us/en/asset-management/adv/insights/market-insights/guide-to-the-markets/economic-and-market-update/):\n",
    "\n",
    "![CFA report on Apple](https://d1i7pm9zcth9lt.cloudfront.net/jpmcview1.png)\n",
    "\n",
    "Based on its own market view, JPMC RM would need to interpret how it impacts the client's portfolio and how the client need to adjust her/his portfolio."
   ]
  },
  {
   "cell_type": "markdown",
   "id": "30bdf5df-7129-4970-8a14-31ebfe751cd7",
   "metadata": {},
   "source": [
    "GenAI might be able to help with prompt below."
   ]
  },
  {
   "cell_type": "code",
   "execution_count": 2,
   "id": "69011832-ff65-4cf3-9753-35b2bca2c960",
   "metadata": {
    "scrolled": true,
    "tags": []
   },
   "outputs": [],
   "source": [
    "prompt1 = \"\"\"\n",
    "<|begin_of_text|>\n",
    "<|start_header_id|>user<|end_header_id|>\n",
    "Human: You are CFA analyst. You will be given a portfolio and a CIO (chief investment officer) market insights. Please give some suggestion.\n",
    "\n",
    "Open position is as below:\n",
    "Stock:\n",
    "AMZN.US, 10000 shares, US$170, US$1700000\n",
    "TSLA.US, 5000 shares, US$200, US$1000000 \n",
    "VZ.US, 12000 shares, US$50, US$600000 \n",
    "DIS.US, 3000 shares, US$140, US$420000 \n",
    "0388.HK,10000 shares, HK$250, HK$2500000\n",
    "0700.HK, 1000 shares, HK$300, HK$300000\n",
    "\n",
    "Bond:\n",
    "30-Year 0-3/4% Treasury Inflation-Indexed Bond Due 2/15/2045, GTII30:GOV, US$40000000\n",
    "AMZN 4.250% 22Aug2057 Corp (USD), USU02320AK24, US$10000000\n",
    "\n",
    "\n",
    "Following is the JP Morgan research market view\n",
    "<view>\n",
    "The Federal Reserve has hiked rates by a cumulative 5.25% since the beginning of 2022 to combat inflation. However, with inflation steadily trending towards their 2% target and labor market conditions easing, the July rate hike was likely the last of this cycle. At their December meeting, the Fed voted to leave the federal funds rate unchanged at a target range of 5.25%-5.50% and strongly hinted that rates are at their cycle peak. Fed Chairman Powell did not push back against easing financial conditions or the idea of rate cuts, as he has done in the past, and forward guidance was decisively dovish.\n",
    "Specifically, the Fed’s “dot plot” suggested that rate cuts may occur faster than initially expected, with the median FOMC member expecting a year-end federal funds rate of 4.6% in 2024, implying three cuts next year. Updates to the Summary of Economic Projections showed lower inflation forecasts for 2023, 2024 and 2025 without material revisions to the growth or employment forecasts. With these revisions, the Fed is acknowledging that inflation is falling faster than expected and appear to be forecasting a soft-landing scenario.\n",
    "Overall, the Fed is likely at the end of its hiking cycle, which means investors are now more interested in the timing and extent of eventual rate cuts. If the economy remains afloat, the Fed may only deliver minor policy cuts. However, if the U.S. economy enters a recession, the Fed may be forced to cut rates more aggressively to try and stimulate the economy. Either way, it is increasingly likely that rates will move lower in the year ahead, but they may settle at a higher level compared to previous policy easing cycles.\n",
    "</view>\n",
    "<|eot_id|>\n",
    "<|start_header_id|>assistant<|end_header_id|>\n",
    "\"\"\""
   ]
  },
  {
   "cell_type": "code",
   "execution_count": 6,
   "id": "f45e4254-ce3c-40c0-a7bb-d73ce2cb0077",
   "metadata": {
    "tags": []
   },
   "outputs": [
    {
     "name": "stdout",
     "output_type": "stream",
     "text": [
      "As a CFA analyst, based on the provided portfolio and JP Morgan research market view, I would like to offer the following suggestions:\n",
      "\n",
      "**Equity Allocation:**\n",
      "\n",
      "1. **Overweight Technology Sector:** The Fed's dovish stance and potential rate cuts could benefit the technology sector, which has been under pressure due to rising interest rates. Consider increasing the allocation to AMZN and TSLA, which are already significant holdings in the portfolio.\n",
      "2. **Reduce Telecom Exposure:** With the Fed's rate hike cycle likely at an end, the attractiveness of defensive sectors like telecom may diminish. Consider reducing the allocation to VZ, which is a significant holding in the portfolio.\n",
      "3. **Maintain DIS and 0388.HK Holdings:** The media and entertainment sector, as well as the Hong Kong market, may benefit from a more dovish Fed stance. Maintain the current allocations to DIS and 0388.HK.\n",
      "\n",
      "**Fixed Income Allocation:**\n",
      "\n",
      "1. **Take Advantage of Higher Yields:** With the Fed's rate hike cycle likely at an end, bond yields may decline, making it an attractive time to invest in fixed income securities. Consider increasing the allocation to the 30-Year 0-3/4% Treasury Inflation-Indexed Bond Due 2/15/2045, which offers a higher yield compared to other bonds in the portfolio.\n",
      "2. **Reduce Corporate Bond Exposure:** Corporate bonds, such as the AMZN 4.250% 22Aug2057 Corp (USD), may be more sensitive to changes in interest rates. Consider reducing the allocation to this bond to minimize potential losses if rates decline.\n",
      "\n",
      "**Overall Strategy:**\n",
      "\n",
      "1. **Shift from Defensive to Growth-Oriented Assets:** With the Fed's dovish stance, the portfolio can shift from defensive assets like telecom and bonds to growth-oriented assets like technology and equities.\n",
      "2. **Monitor Economic Indicators:** Continue to monitor economic indicators, such as inflation and labor market conditions, to assess the likelihood of rate cuts and adjust the portfolio accordingly.\n",
      "3. **Rebalance the Portfolio:** Regularly rebalance the portfolio to maintain the target asset allocation and ensure that it remains aligned with the investment objectives.\n",
      "\n",
      "These suggestions are based on the provided information and may not be suitable for all investors. It is essential to consider the investor's risk tolerance, investment objectives, and overall financial situation before making any investment decisions.\n"
     ]
    }
   ],
   "source": [
    "import boto3\n",
    "import json\n",
    "\n",
    "session = boto3.Session(region_name='us-east-1') \n",
    "bedrock = session.client(service_name=\"bedrock-runtime\")\n",
    "\n",
    "body = {\n",
    "    \"prompt\": prompt1,\n",
    "    \"max_gen_len\": 2048,\n",
    "    \"temperature\": 0.5,\n",
    "}\n",
    "\n",
    "response = bedrock.invoke_model(modelId=\"arn:aws:bedrock:us-east-1::foundation-model/meta.llama3-70b-instruct-v1:0\", body=json.dumps(body))\n",
    "# Decode the response body.\n",
    "model_response = json.loads(response[\"body\"].read())\n",
    "\n",
    "# Extract and print the response text.\n",
    "response_text = model_response[\"generation\"]\n",
    "print(response_text)\n",
    "\n"
   ]
  },
  {
   "cell_type": "markdown",
   "id": "472dc349-418d-43dc-863a-33631f7dbbab",
   "metadata": {},
   "source": [
    "You can find that Gen AI provide the comment on the equity and bond position impact and adjustment advice. Further more, it suggested some commen investment philosophy, such as diversification and risk management. In addition, it gave some 'protective terms', such as maintain your desired risk appetite."
   ]
  }
 ],
 "metadata": {
  "kernelspec": {
   "display_name": "Python 3 (ipykernel)",
   "language": "python",
   "name": "python3"
  },
  "language_info": {
   "codemirror_mode": {
    "name": "ipython",
    "version": 3
   },
   "file_extension": ".py",
   "mimetype": "text/x-python",
   "name": "python",
   "nbconvert_exporter": "python",
   "pygments_lexer": "ipython3",
   "version": "3.10.14"
  }
 },
 "nbformat": 4,
 "nbformat_minor": 5
}
